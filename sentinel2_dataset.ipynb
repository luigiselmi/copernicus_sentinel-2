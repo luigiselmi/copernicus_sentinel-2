{
 "cells": [
  {
   "cell_type": "markdown",
   "id": "85cf2a9e-67d3-474a-b593-45adab6878c2",
   "metadata": {},
   "source": [
    "# Copernicus Sentinel-2 datasets"
   ]
  },
  {
   "cell_type": "code",
   "execution_count": 1,
   "id": "2517154a-3445-4e28-a4ec-0577a9d53281",
   "metadata": {},
   "outputs": [],
   "source": [
    "import numpy as np\n",
    "import os\n",
    "import sys\n",
    "from osgeo import gdal, osr, ogr\n",
    "import pathlib\n",
    "import time\n",
    "import rasterio\n",
    "from rasterio.plot import show_hist\n",
    "from rasterio.plot import show\n",
    "import PIL\n",
    "from PIL import Image, ImageDraw\n",
    "from skimage import io\n",
    "from skimage import exposure\n",
    "from skimage.io import imread\n",
    "import tifffile as tiff\n",
    "import matplotlib\n",
    "import matplotlib.pyplot as plt\n",
    "import matplotlib.colors as mcol\n",
    "from matplotlib import cm, ticker\n",
    "from matplotlib.colors import ListedColormap, LinearSegmentedColormap \n",
    "import zipfile\n",
    "from zipfile import ZipFile\n",
    "import warnings\n",
    "warnings.filterwarnings('ignore')"
   ]
  },
  {
   "cell_type": "code",
   "execution_count": 11,
   "id": "5be77250-f820-462c-a3b0-1a9388b2a892",
   "metadata": {},
   "outputs": [
    {
     "data": {
      "text/plain": [
       "'S2A_MSIL2A_20250823'"
      ]
     },
     "execution_count": 11,
     "metadata": {},
     "output_type": "execute_result"
    }
   ],
   "source": [
    "DATA_DIR = 'data'\n",
    "sentinel2_data_file = 'S2A_MSIL2A_20250823T094121_N0511_R036_T33SVA_20250823T115213.SAFE.zip'\n",
    "dataset_name = sentinel2_data_file[:19]\n",
    "dataset_name"
   ]
  },
  {
   "cell_type": "code",
   "execution_count": 7,
   "id": "1e778d51-ca4a-4dbf-967d-ac7885dd7d47",
   "metadata": {},
   "outputs": [],
   "source": [
    "with ZipFile(f'{DATA_DIR}/{sentinel2_data_file}', 'r') as zipObj:\n",
    "   zipObj.extractall(path=f'{DATA_DIR}/{dataset_name}')"
   ]
  },
  {
   "cell_type": "code",
   "execution_count": 22,
   "id": "7e30311c-9590-46d8-9c2a-14eafdd9ea62",
   "metadata": {},
   "outputs": [
    {
     "data": {
      "text/plain": [
       "'S2A_MSIL2A_20250823'"
      ]
     },
     "execution_count": 22,
     "metadata": {},
     "output_type": "execute_result"
    }
   ],
   "source": [
    "bands_folder = pathlib.Path(DATA_DIR + '/' + dataset_name)\n",
    "bands_folder.name"
   ]
  },
  {
   "cell_type": "code",
   "execution_count": 28,
   "id": "24542ce0-0431-43eb-8d75-2ed57c4ec8f2",
   "metadata": {},
   "outputs": [
    {
     "data": {
      "text/plain": [
       "WindowsPath('data/S2A_MSIL2A_20250823/S2A_MSIL2A_20250823T094121_N0511_R036_T33SVA_20250823T115213.SAFE')"
      ]
     },
     "execution_count": 28,
     "metadata": {},
     "output_type": "execute_result"
    }
   ],
   "source": [
    "main_sub_folder = [pathlib.Path(x) for x in bands_folder.iterdir() if x.is_dir()][0]\n",
    "main_sub_folder"
   ]
  },
  {
   "cell_type": "code",
   "execution_count": 29,
   "id": "c78e593f-54cb-42c6-bc96-b202eb1d27d3",
   "metadata": {},
   "outputs": [
    {
     "data": {
      "text/plain": [
       "WindowsPath('data/S2A_MSIL2A_20250823/S2A_MSIL2A_20250823T094121_N0511_R036_T33SVA_20250823T115213.SAFE/GRANULE')"
      ]
     },
     "execution_count": 29,
     "metadata": {},
     "output_type": "execute_result"
    }
   ],
   "source": [
    "granule_folder = main_sub_folder.joinpath('GRANULE')\n",
    "granule_folder"
   ]
  },
  {
   "cell_type": "code",
   "execution_count": 31,
   "id": "1490cd13-e1fc-4637-bd48-cf5921135422",
   "metadata": {},
   "outputs": [
    {
     "data": {
      "text/plain": [
       "WindowsPath('data/S2A_MSIL2A_20250823/S2A_MSIL2A_20250823T094121_N0511_R036_T33SVA_20250823T115213.SAFE/GRANULE/L2A_T33SVA_A053115_20250823T094627')"
      ]
     },
     "execution_count": 31,
     "metadata": {},
     "output_type": "execute_result"
    }
   ],
   "source": [
    "tile_folder = [pathlib.Path(x) for x in granule_folder.iterdir() if x.is_dir()][0]\n",
    "tile_folder"
   ]
  },
  {
   "cell_type": "code",
   "execution_count": 34,
   "id": "8aa08935-f293-4bd0-969d-425c04c84200",
   "metadata": {},
   "outputs": [
    {
     "data": {
      "text/plain": [
       "WindowsPath('data/S2A_MSIL2A_20250823/S2A_MSIL2A_20250823T094121_N0511_R036_T33SVA_20250823T115213.SAFE/GRANULE/L2A_T33SVA_A053115_20250823T094627/IMG_DATA/R10m')"
      ]
     },
     "execution_count": 34,
     "metadata": {},
     "output_type": "execute_result"
    }
   ],
   "source": [
    "img_folder = tile_folder.joinpath('IMG_DATA/R10m')\n",
    "img_folder"
   ]
  },
  {
   "cell_type": "code",
   "execution_count": 36,
   "id": "c63994b9-b5ba-4ebc-a4be-f63eb9948343",
   "metadata": {},
   "outputs": [
    {
     "data": {
      "text/plain": [
       "[WindowsPath('data/S2A_MSIL2A_20250823/S2A_MSIL2A_20250823T094121_N0511_R036_T33SVA_20250823T115213.SAFE/GRANULE/L2A_T33SVA_A053115_20250823T094627/IMG_DATA/R10m/T33SVA_20250823T094121_AOT_10m.jp2'),\n",
       " WindowsPath('data/S2A_MSIL2A_20250823/S2A_MSIL2A_20250823T094121_N0511_R036_T33SVA_20250823T115213.SAFE/GRANULE/L2A_T33SVA_A053115_20250823T094627/IMG_DATA/R10m/T33SVA_20250823T094121_B02_10m.jp2'),\n",
       " WindowsPath('data/S2A_MSIL2A_20250823/S2A_MSIL2A_20250823T094121_N0511_R036_T33SVA_20250823T115213.SAFE/GRANULE/L2A_T33SVA_A053115_20250823T094627/IMG_DATA/R10m/T33SVA_20250823T094121_B03_10m.jp2'),\n",
       " WindowsPath('data/S2A_MSIL2A_20250823/S2A_MSIL2A_20250823T094121_N0511_R036_T33SVA_20250823T115213.SAFE/GRANULE/L2A_T33SVA_A053115_20250823T094627/IMG_DATA/R10m/T33SVA_20250823T094121_B04_10m.jp2'),\n",
       " WindowsPath('data/S2A_MSIL2A_20250823/S2A_MSIL2A_20250823T094121_N0511_R036_T33SVA_20250823T115213.SAFE/GRANULE/L2A_T33SVA_A053115_20250823T094627/IMG_DATA/R10m/T33SVA_20250823T094121_B08_10m.jp2'),\n",
       " WindowsPath('data/S2A_MSIL2A_20250823/S2A_MSIL2A_20250823T094121_N0511_R036_T33SVA_20250823T115213.SAFE/GRANULE/L2A_T33SVA_A053115_20250823T094627/IMG_DATA/R10m/T33SVA_20250823T094121_TCI_10m.jp2'),\n",
       " WindowsPath('data/S2A_MSIL2A_20250823/S2A_MSIL2A_20250823T094121_N0511_R036_T33SVA_20250823T115213.SAFE/GRANULE/L2A_T33SVA_A053115_20250823T094627/IMG_DATA/R10m/T33SVA_20250823T094121_WVP_10m.jp2')]"
      ]
     },
     "execution_count": 36,
     "metadata": {},
     "output_type": "execute_result"
    }
   ],
   "source": [
    "r10m_bands = [pathlib.Path(band) for band in img_folder.iterdir()]\n",
    "r10m_bands"
   ]
  },
  {
   "cell_type": "code",
   "execution_count": 37,
   "id": "6d197ba7-48b7-4c54-a40f-4be2e5c647af",
   "metadata": {},
   "outputs": [],
   "source": [
    "def get_raster_attributes(img_path):\n",
    "    width = 0.0\n",
    "    height = 0.0\n",
    "    d_type = None\n",
    "    crs = None\n",
    "    transform = None\n",
    "    with rasterio.open(img_path) as dataset:\n",
    "        d_types = dataset.dtypes[0]\n",
    "        print('dtypes: {}'.format(d_types))\n",
    "        print('Number of bands: {:d}'.format(dataset.count))\n",
    "        width = dataset.width\n",
    "        height = dataset.height\n",
    "        print('Band width: {:d}, band height: {:d}'.format(width, height))\n",
    "        transform = dataset.transform\n",
    "        print('Dataset affine transform:\\n {}'.format(transform))\n",
    "        crs = dataset.crs\n",
    "        print('EPSG Coordinates Reference System: {}'.format(crs))\n",
    "        bb_left = dataset.bounds.left\n",
    "        bb_bottom = dataset.bounds.bottom\n",
    "        bb_right = dataset.bounds.right\n",
    "        bb_top = dataset.bounds.top\n",
    "        print('Bounding box \\n left: {:.2f}, \\n bottom: {:.2f}, \\n right: {:.2f}, \\n top: {:.2f}'.format(bb_left, bb_bottom, bb_right, bb_top))                                                   \n",
    "    return width, height, d_type, transform"
   ]
  },
  {
   "cell_type": "code",
   "execution_count": 38,
   "id": "de410e63-f490-459f-9ecc-150911757e3f",
   "metadata": {},
   "outputs": [
    {
     "data": {
      "text/plain": [
       "WindowsPath('data/S2A_MSIL2A_20250823/S2A_MSIL2A_20250823T094121_N0511_R036_T33SVA_20250823T115213.SAFE/GRANULE/L2A_T33SVA_A053115_20250823T094627/IMG_DATA/R10m/T33SVA_20250823T094121_B02_10m.jp2')"
      ]
     },
     "execution_count": 38,
     "metadata": {},
     "output_type": "execute_result"
    }
   ],
   "source": [
    "b2_band = r10m_bands[1]\n",
    "b2_band"
   ]
  },
  {
   "cell_type": "code",
   "execution_count": 39,
   "id": "5d4b4f21-7b7b-4906-bc94-1485f522c9bc",
   "metadata": {},
   "outputs": [
    {
     "name": "stdout",
     "output_type": "stream",
     "text": [
      "dtypes: uint16\n",
      "Number of bands: 1\n",
      "Band width: 10980, band height: 10980\n",
      "Dataset affine transform:\n",
      " | 10.00, 0.00, 399960.00|\n",
      "| 0.00,-10.00, 4100040.00|\n",
      "| 0.00, 0.00, 1.00|\n",
      "EPSG Coordinates Reference System: EPSG:32633\n",
      "Bounding box \n",
      " left: 399960.00, \n",
      " bottom: 3990240.00, \n",
      " right: 509760.00, \n",
      " top: 4100040.00\n"
     ]
    },
    {
     "data": {
      "text/plain": [
       "(10980,\n",
       " 10980,\n",
       " None,\n",
       " Affine(10.0, 0.0, 399960.0,\n",
       "        0.0, -10.0, 4100040.0))"
      ]
     },
     "execution_count": 39,
     "metadata": {},
     "output_type": "execute_result"
    }
   ],
   "source": [
    "get_raster_attributes(b2_band)"
   ]
  },
  {
   "cell_type": "code",
   "execution_count": 40,
   "id": "9d77bcbb-a303-48bf-8990-ea236e3c5a7d",
   "metadata": {},
   "outputs": [],
   "source": [
    "def get_image_array(img_path):\n",
    "    '''\n",
    "    This function returns a NumPy array\n",
    "    of the image. For one band it returns \n",
    "    a 2D array with shape (height, width).\n",
    "    For a RGB image with three bands it \n",
    "    returns a 3D array with shape (channels, height, width) \n",
    "    '''\n",
    "    with gdal.Open(img_path) as image_ds:\n",
    "        image_array = image_ds.ReadAsArray()\n",
    "    return image_array"
   ]
  },
  {
   "cell_type": "code",
   "execution_count": 42,
   "id": "d48fb0e7-c71f-4d2d-bac4-b9260bff2102",
   "metadata": {},
   "outputs": [
    {
     "data": {
      "text/plain": [
       "(10980, 10980)"
      ]
     },
     "execution_count": 42,
     "metadata": {},
     "output_type": "execute_result"
    }
   ],
   "source": [
    "b2_band_array = get_image_array(b2_band)\n",
    "b2_band_array.shape"
   ]
  },
  {
   "cell_type": "code",
   "execution_count": 49,
   "id": "f2942ae9-c932-456a-92a4-7001c1950480",
   "metadata": {},
   "outputs": [
    {
     "data": {
      "text/plain": [
       "0"
      ]
     },
     "execution_count": 49,
     "metadata": {},
     "output_type": "execute_result"
    }
   ],
   "source": [
    "b2_band_array.min()"
   ]
  },
  {
   "cell_type": "code",
   "execution_count": 50,
   "id": "788f03f7-c4f0-49c1-80ff-28564e4c6c95",
   "metadata": {},
   "outputs": [
    {
     "data": {
      "text/plain": [
       "19760"
      ]
     },
     "execution_count": 50,
     "metadata": {},
     "output_type": "execute_result"
    }
   ],
   "source": [
    "b2_band_array.max()"
   ]
  },
  {
   "cell_type": "code",
   "execution_count": 48,
   "id": "a0541846-e72c-4403-bee6-e18bc6dce81e",
   "metadata": {},
   "outputs": [
    {
     "data": {
      "text/plain": [
       "<matplotlib.image.AxesImage at 0x22fbb682960>"
      ]
     },
     "execution_count": 48,
     "metadata": {},
     "output_type": "execute_result"
    },
    {
     "data": {
      "image/png": "[encoded data removed]",
      "text/plain": [
       "<Figure size 640x480 with 1 Axes>"
      ]
     },
     "metadata": {},
     "output_type": "display_data"
    }
   ],
   "source": [
    "plt.imshow(b2_band_array, cmap='gray')"
   ]
  },
  {
   "cell_type": "code",
   "execution_count": null,
   "id": "16b6df16-21cf-4c2c-b2d8-2ec8dcc3595f",
   "metadata": {},
   "outputs": [],
   "source": []
  }
 ],
 "metadata": {
  "kernelspec": {
   "display_name": "Python 3 (ipykernel)",
   "language": "python",
   "name": "python3"
  },
  "language_info": {
   "codemirror_mode": {
    "name": "ipython",
    "version": 3
   },
   "file_extension": ".py",
   "mimetype": "text/x-python",
   "name": "python",
   "nbconvert_exporter": "python",
   "pygments_lexer": "ipython3",
   "version": "3.12.5"
  }
 },
 "nbformat": 4,
 "nbformat_minor": 5
}
